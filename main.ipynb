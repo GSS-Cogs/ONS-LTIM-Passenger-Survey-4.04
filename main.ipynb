{
 "cells": [
  {
   "cell_type": "code",
   "execution_count": 48,
   "metadata": {},
   "outputs": [
    {
     "name": "stdout",
     "output_type": "stream",
     "text": [
      "The pep8_magic extension is already loaded. To reload it, use:\n",
      "  %reload_ext pep8_magic\n"
     ]
    }
   ],
   "source": [
    "%load_ext pep8_magic"
   ]
  },
  {
   "cell_type": "markdown",
   "metadata": {},
   "source": [
    "# Migration to and from the United Kingdom by area of destination or origin within the UK by citizenship"
   ]
  },
  {
   "cell_type": "code",
   "execution_count": 49,
   "metadata": {},
   "outputs": [
    {
     "name": "stderr",
     "output_type": "stream",
     "text": [
      "8:1: W391 blank line at end of file\n"
     ]
    }
   ],
   "source": [
    "%%pep8\n",
    "\n",
    "from gssutils import *\n",
    "\n",
    "scraper = Scraper('https://www.ons.gov.uk/peoplepopulationandcommunity/'\n",
    "                  'populationandmigration/internationalmigration/datasets/'\n",
    "                  'ipsareaofdestinationororiginwithintheukbycitizenship')\n",
    "scraper\n"
   ]
  },
  {
   "cell_type": "code",
   "execution_count": 50,
   "metadata": {},
   "outputs": [
    {
     "name": "stderr",
     "output_type": "stream",
     "text": [
      "3:1: W391 blank line at end of file\n"
     ]
    }
   ],
   "source": [
    "%%pep8\n",
    "\n",
    "tabs = scraper.distributions[0].as_databaker()"
   ]
  },
  {
   "cell_type": "markdown",
   "metadata": {},
   "source": [
    "Each tab is of the same form, with \"software readable codes\":\n",
    "\n",
    "> The datasheets can be imported directly into suitable software. When importing the datasheets into other software import only rows 8 to 53, starting at column E.\n",
    "\n",
    "Actually, the admin geo code is also useful, so we'll start at column D"
   ]
  },
  {
   "cell_type": "code",
   "execution_count": 60,
   "metadata": {},
   "outputs": [
    {
     "name": "stderr",
     "output_type": "stream",
     "text": [
      "92:1: W391 blank line at end of file\n"
     ]
    }
   ],
   "source": [
    "%%pep8\n",
    "\n",
    "def citizenship_code(s):\n",
    "    code = pathify(s)\n",
    "    assert code.startswith('cit-'), code\n",
    "    code = code[4:]\n",
    "    assert code.endswith('-est'), code\n",
    "    code = code[:-4]\n",
    "    return code.replace('-/-', '-')\n",
    "\n",
    "tidied_sheets = []\n",
    "\n",
    "# If we're not using the tabs, get them out of memory\n",
    "tabs = [x for x in tabs if x.name.startswith(\"Data\")]\n",
    "\n",
    "for tab in tabs:\n",
    "\n",
    "    # ---------\n",
    "    # Selection\n",
    "\n",
    "    # We're gonna anchor on a hidden (as in white-text) cell at the\n",
    "    # intersection of the software readable row and column labels\n",
    "    anchor = tab.filter(\"Row Label\").assert_one()\n",
    "\n",
    "    # srrl/srcl is \"Software-reabable row/column labels\"\n",
    "    srrl = anchor.fill(DOWN).is_not_blank()\n",
    "    srcl = anchor.fill(RIGHT).is_not_blank()\n",
    "\n",
    "    # sheets B, C and D repeat 'All citizenships', 'British' and 'Stateless'\n",
    "    # from sheet so we remove software readable columns with those headings\n",
    "    if not tab.name.endswith('A'):\n",
    "        srcl = srcl - srcl.regex(r'CIT (All|British|Stateless)')\n",
    "\n",
    "    # Create different selection for the columns containing EST and CI from\n",
    "    # the software readable column labels\n",
    "    estCols = srcl.filter(lambda x: x.value.strip().endswith(\"EST\"))\n",
    "    ciCols = srcl.filter(lambda x: x.value.strip().endswith(\"CI\"))\n",
    "    msg = \"The selection of CI and EST columns should be of equal length\"\n",
    "    assert len(estCols) == len(ciCols), msg\n",
    "\n",
    "    # Use a waffle to get the observations and ci selections\n",
    "    observations = srrl.waffle(estCols)\n",
    "    observations_ci = srrl.waffle(ciCols)\n",
    "\n",
    "    # Get the year from the last 4 characters in cell A2\n",
    "    year = tab.excel_ref('A2').value[-4:]\n",
    "    assert int(year), \"No valid integer as year ending cell A2\"\n",
    "\n",
    "    # Get the geography from every cell below and including D9\n",
    "    # then regex to exact match 1 character + 8 digits\n",
    "    geography = tab.excel_ref(\"D9\").expand(DOWN).regex(r'^[A-Z]\\d{8}$')\n",
    "\n",
    "    # ---------\n",
    "    # Dimension\n",
    "\n",
    "    dimensions = [\n",
    "        HDimConst('Year', year),\n",
    "        HDim(geography, 'Area of Destination or Origin', DIRECTLY, LEFT),\n",
    "        HDim(srrl, 'Migration Flow', DIRECTLY, LEFT),\n",
    "        HDim(estCols, 'IPS Citizenship', DIRECTLY, ABOVE),\n",
    "        HDim(observations_ci, 'CI', DIRECTLY, RIGHT),\n",
    "        HDimConst('Measure Type', 'Count'),\n",
    "        HDimConst('Unit', 'people-thousands')\n",
    "    ]\n",
    "\n",
    "    # -------\n",
    "    # Process\n",
    "\n",
    "    cs_est = ConversionSegment(observations, dimensions)\n",
    "    savepreviewhtml(cs_est)\n",
    "    tidy_sheet = cs_est.topandas()\n",
    "\n",
    "    # ------------\n",
    "    # Post Process\n",
    "\n",
    "    # Tidy up some values\n",
    "    tidy_sheet['IPS Citizenship', inplace = True].apply(citizenship_code)\n",
    "    tidy_sheet['Migration Flow',  inplace = True].map(\n",
    "                                    lambda x: x.split(\", \")[0].lower())\n",
    "\n",
    "    # Drop unused data marker column\n",
    "    # Todo: data markers\n",
    "    tidy_sheet = tidy_sheet[pd.isna(tidy_sheet['DATAMARKER'])].copy()\n",
    "    tidy_sheet.drop(columns=['DATAMARKER'], inplace=True)\n",
    "\n",
    "    # Ordering and label names\n",
    "    tidy_sheet.rename(columns={'OBS': 'Value'}, inplace=True)\n",
    "    tidy_sheet = tidy_sheet[['Year', 'Area of Destination or Origin',\n",
    "                             'Migration Flow', 'IPS Citizenship', 'CI',\n",
    "                             'Value', 'Measure Type', 'Unit']]\n",
    "    # Done\n",
    "    tidied_sheets.append(tidy_sheet)\n"
   ]
  },
  {
   "cell_type": "code",
   "execution_count": 61,
   "metadata": {},
   "outputs": [
    {
     "name": "stderr",
     "output_type": "stream",
     "text": [
      "7:1: W391 blank line at end of file\n"
     ]
    }
   ],
   "source": [
    "%%pep8\n",
    "\n",
    "tidy = pd.concat(tidied_sheets)\n",
    "\n",
    "out = Path('out')\n",
    "out.mkdir(exist_ok=True, parents=True)\n",
    "tidy.to_csv(out / 'observations.csv', index=False)"
   ]
  },
  {
   "cell_type": "code",
   "execution_count": 62,
   "metadata": {},
   "outputs": [
    {
     "name": "stderr",
     "output_type": "stream",
     "text": [
      "5:1: W391 blank line at end of file\n"
     ]
    }
   ],
   "source": [
    "%%pep8\n",
    "\n",
    "scraper.dataset.family = 'migration'\n",
    "with open(out / 'dataset.trig', 'wb') as metadata:\n",
    "    metadata.write(scraper.generate_trig())"
   ]
  },
  {
   "cell_type": "code",
   "execution_count": null,
   "metadata": {},
   "outputs": [],
   "source": []
  }
 ],
 "metadata": {
  "kernelspec": {
   "display_name": "Python 3",
   "language": "python",
   "name": "python3"
  },
  "language_info": {
   "codemirror_mode": {
    "name": "ipython",
    "version": 3
   },
   "file_extension": ".py",
   "mimetype": "text/x-python",
   "name": "python",
   "nbconvert_exporter": "python",
   "pygments_lexer": "ipython3",
   "version": "3.6.6"
  }
 },
 "nbformat": 4,
 "nbformat_minor": 2
}
