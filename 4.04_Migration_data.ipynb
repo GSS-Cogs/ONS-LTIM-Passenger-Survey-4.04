{
 "cells": [
  {
   "cell_type": "code",
   "execution_count": 1,
   "metadata": {
    "collapsed": true
   },
   "outputs": [],
   "source": [
    "from databaker.framework import *\n",
    "import pandas as pd "
   ]
  },
  {
   "cell_type": "code",
   "execution_count": 2,
   "metadata": {
    "collapsed": true
   },
   "outputs": [],
   "source": [
    "next_table = pd.DataFrame()"
   ]
  },
  {
   "cell_type": "code",
   "execution_count": 3,
   "metadata": {
    "collapsed": true
   },
   "outputs": [],
   "source": [
    "%%capture\n",
    "%run \"LTIM IPS  4.04A Area of destination or origin within the UK by citizenship.ipynb\"\n",
    "next_table = pd.concat([next_table, Final_table])\n",
    "\n",
    "%run \"LTIM IPS  4.04B Area of destination or origin within the UK by citizenship.ipynb\"\n",
    "next_table = pd.concat([next_table, Final_table])\n",
    "\n",
    "%run\"LTIM IPS  4.04C Area of destination or origin within the UK by citizenship.ipynb\"\n",
    "next_table = pd.concat([next_table, Final_table])\n",
    "\n",
    "%run \"LTIM IPS  4.04D Area of destination or origin within the UK by citizenship.ipynb\"\n",
    "next_table = pd.concat([next_table, Final_table])"
   ]
  },
  {
   "cell_type": "code",
   "execution_count": 4,
   "metadata": {},
   "outputs": [
    {
     "data": {
      "text/plain": [
       "Geography                        3668\n",
       "Year                             3668\n",
       "Country of residence             3668\n",
       "Flow                             3668\n",
       "Area of Destination or Origin    3668\n",
       "Measure Type                     3668\n",
       "Value                            3668\n",
       "CI                               3668\n",
       "Unit                             3668\n",
       "dtype: int64"
      ]
     },
     "execution_count": 4,
     "metadata": {},
     "output_type": "execute_result"
    }
   ],
   "source": [
    "next_table.count()"
   ]
  },
  {
   "cell_type": "code",
   "execution_count": 5,
   "metadata": {
    "collapsed": true
   },
   "outputs": [],
   "source": [
    "next_table = next_table[['Geography','Year','Country of residence','Flow','Area of Destination or Origin','Measure Type','Value','CI','Unit']]"
   ]
  },
  {
   "cell_type": "code",
   "execution_count": 6,
   "metadata": {},
   "outputs": [
    {
     "data": {
      "text/html": [
       "<div>\n",
       "<style scoped>\n",
       "    .dataframe tbody tr th:only-of-type {\n",
       "        vertical-align: middle;\n",
       "    }\n",
       "\n",
       "    .dataframe tbody tr th {\n",
       "        vertical-align: top;\n",
       "    }\n",
       "\n",
       "    .dataframe thead th {\n",
       "        text-align: right;\n",
       "    }\n",
       "</style>\n",
       "<table border=\"1\" class=\"dataframe\">\n",
       "  <thead>\n",
       "    <tr style=\"text-align: right;\">\n",
       "      <th></th>\n",
       "      <th>Geography</th>\n",
       "      <th>Year</th>\n",
       "      <th>Country of residence</th>\n",
       "      <th>Flow</th>\n",
       "      <th>Area of Destination or Origin</th>\n",
       "      <th>Measure Type</th>\n",
       "      <th>Value</th>\n",
       "      <th>CI</th>\n",
       "      <th>Unit</th>\n",
       "    </tr>\n",
       "  </thead>\n",
       "  <tbody>\n",
       "    <tr>\n",
       "      <th>1</th>\n",
       "      <td>K02000001</td>\n",
       "      <td>2016</td>\n",
       "      <td>all</td>\n",
       "      <td>inflow</td>\n",
       "      <td>united kingdom</td>\n",
       "      <td>Count</td>\n",
       "      <td>526.6</td>\n",
       "      <td>34.4</td>\n",
       "      <td>People (thousands)</td>\n",
       "    </tr>\n",
       "    <tr>\n",
       "      <th>3</th>\n",
       "      <td>K02000001</td>\n",
       "      <td>2016</td>\n",
       "      <td>all</td>\n",
       "      <td>inflow</td>\n",
       "      <td>great britain</td>\n",
       "      <td>Count</td>\n",
       "      <td>520.8</td>\n",
       "      <td>33.7</td>\n",
       "      <td>People (thousands)</td>\n",
       "    </tr>\n",
       "    <tr>\n",
       "      <th>5</th>\n",
       "      <td>K02000001</td>\n",
       "      <td>2016</td>\n",
       "      <td>all</td>\n",
       "      <td>inflow</td>\n",
       "      <td>england and wales</td>\n",
       "      <td>Count</td>\n",
       "      <td>488.4</td>\n",
       "      <td>32.7</td>\n",
       "      <td>People (thousands)</td>\n",
       "    </tr>\n",
       "    <tr>\n",
       "      <th>7</th>\n",
       "      <td>K02000001</td>\n",
       "      <td>2016</td>\n",
       "      <td>all</td>\n",
       "      <td>inflow</td>\n",
       "      <td>england</td>\n",
       "      <td>Count</td>\n",
       "      <td>470.3</td>\n",
       "      <td>32.0</td>\n",
       "      <td>People (thousands)</td>\n",
       "    </tr>\n",
       "    <tr>\n",
       "      <th>9</th>\n",
       "      <td>K02000001</td>\n",
       "      <td>2016</td>\n",
       "      <td>all</td>\n",
       "      <td>inflow</td>\n",
       "      <td>wales</td>\n",
       "      <td>Count</td>\n",
       "      <td>18.1</td>\n",
       "      <td>6.8</td>\n",
       "      <td>People (thousands)</td>\n",
       "    </tr>\n",
       "  </tbody>\n",
       "</table>\n",
       "</div>"
      ],
      "text/plain": [
       "   Geography  Year Country of residence    Flow Area of Destination or Origin  \\\n",
       "1  K02000001  2016                  all  inflow                united kingdom   \n",
       "3  K02000001  2016                  all  inflow                 great britain   \n",
       "5  K02000001  2016                  all  inflow             england and wales   \n",
       "7  K02000001  2016                  all  inflow                       england   \n",
       "9  K02000001  2016                  all  inflow                         wales   \n",
       "\n",
       "  Measure Type  Value    CI                Unit  \n",
       "1        Count  526.6  34.4  People (thousands)  \n",
       "3        Count  520.8  33.7  People (thousands)  \n",
       "5        Count  488.4  32.7  People (thousands)  \n",
       "7        Count  470.3  32.0  People (thousands)  \n",
       "9        Count   18.1   6.8  People (thousands)  "
      ]
     },
     "execution_count": 6,
     "metadata": {},
     "output_type": "execute_result"
    }
   ],
   "source": [
    "next_table.head()"
   ]
  },
  {
   "cell_type": "code",
   "execution_count": 7,
   "metadata": {},
   "outputs": [
    {
     "data": {
      "text/html": [
       "<div>\n",
       "<style scoped>\n",
       "    .dataframe tbody tr th:only-of-type {\n",
       "        vertical-align: middle;\n",
       "    }\n",
       "\n",
       "    .dataframe tbody tr th {\n",
       "        vertical-align: top;\n",
       "    }\n",
       "\n",
       "    .dataframe thead th {\n",
       "        text-align: right;\n",
       "    }\n",
       "</style>\n",
       "<table border=\"1\" class=\"dataframe\">\n",
       "  <thead>\n",
       "    <tr style=\"text-align: right;\">\n",
       "      <th></th>\n",
       "      <th>Geography</th>\n",
       "      <th>Year</th>\n",
       "      <th>Country of residence</th>\n",
       "      <th>Flow</th>\n",
       "      <th>Area of Destination or Origin</th>\n",
       "      <th>Measure Type</th>\n",
       "      <th>Value</th>\n",
       "      <th>CI</th>\n",
       "      <th>Unit</th>\n",
       "    </tr>\n",
       "  </thead>\n",
       "  <tbody>\n",
       "    <tr>\n",
       "      <th>3555</th>\n",
       "      <td>K02000001</td>\n",
       "      <td>2016</td>\n",
       "      <td>zimbabwe</td>\n",
       "      <td>balance</td>\n",
       "      <td>united-kingdom</td>\n",
       "      <td>Count</td>\n",
       "      <td>0.2</td>\n",
       "      <td>0.3</td>\n",
       "      <td>People (thousands)</td>\n",
       "    </tr>\n",
       "    <tr>\n",
       "      <th>3557</th>\n",
       "      <td>K02000001</td>\n",
       "      <td>2016</td>\n",
       "      <td>zimbabwe</td>\n",
       "      <td>balance</td>\n",
       "      <td>great-britain</td>\n",
       "      <td>Count</td>\n",
       "      <td>0.2</td>\n",
       "      <td>0.3</td>\n",
       "      <td>People (thousands)</td>\n",
       "    </tr>\n",
       "    <tr>\n",
       "      <th>3559</th>\n",
       "      <td>K02000001</td>\n",
       "      <td>2016</td>\n",
       "      <td>zimbabwe</td>\n",
       "      <td>balance</td>\n",
       "      <td>england-and-wales</td>\n",
       "      <td>Count</td>\n",
       "      <td>0.2</td>\n",
       "      <td>0.3</td>\n",
       "      <td>People (thousands)</td>\n",
       "    </tr>\n",
       "    <tr>\n",
       "      <th>3561</th>\n",
       "      <td>K02000001</td>\n",
       "      <td>2016</td>\n",
       "      <td>zimbabwe</td>\n",
       "      <td>balance</td>\n",
       "      <td>england</td>\n",
       "      <td>Count</td>\n",
       "      <td>0.2</td>\n",
       "      <td>0.3</td>\n",
       "      <td>People (thousands)</td>\n",
       "    </tr>\n",
       "    <tr>\n",
       "      <th>3563</th>\n",
       "      <td>K02000001</td>\n",
       "      <td>2016</td>\n",
       "      <td>zimbabwe</td>\n",
       "      <td>balance</td>\n",
       "      <td>east</td>\n",
       "      <td>Count</td>\n",
       "      <td>0.2</td>\n",
       "      <td>0.3</td>\n",
       "      <td>People (thousands)</td>\n",
       "    </tr>\n",
       "  </tbody>\n",
       "</table>\n",
       "</div>"
      ],
      "text/plain": [
       "      Geography  Year Country of residence     Flow  \\\n",
       "3555  K02000001  2016             zimbabwe  balance   \n",
       "3557  K02000001  2016             zimbabwe  balance   \n",
       "3559  K02000001  2016             zimbabwe  balance   \n",
       "3561  K02000001  2016             zimbabwe  balance   \n",
       "3563  K02000001  2016             zimbabwe  balance   \n",
       "\n",
       "     Area of Destination or Origin Measure Type  Value   CI  \\\n",
       "3555                united-kingdom        Count    0.2  0.3   \n",
       "3557                 great-britain        Count    0.2  0.3   \n",
       "3559             england-and-wales        Count    0.2  0.3   \n",
       "3561                       england        Count    0.2  0.3   \n",
       "3563                          east        Count    0.2  0.3   \n",
       "\n",
       "                    Unit  \n",
       "3555  People (thousands)  \n",
       "3557  People (thousands)  \n",
       "3559  People (thousands)  \n",
       "3561  People (thousands)  \n",
       "3563  People (thousands)  "
      ]
     },
     "execution_count": 7,
     "metadata": {},
     "output_type": "execute_result"
    }
   ],
   "source": [
    "next_table.tail()"
   ]
  },
  {
   "cell_type": "code",
   "execution_count": 8,
   "metadata": {
    "collapsed": true
   },
   "outputs": [],
   "source": [
    "out = Path('out')\n",
    "out.mkdir(exist_ok=True)\n",
    "next_table.to_csv(out / 'migration_4.04.csv', index = False)"
   ]
  },
  {
   "cell_type": "code",
   "execution_count": null,
   "metadata": {
    "collapsed": true
   },
   "outputs": [],
   "source": []
  }
 ],
 "metadata": {
  "kernelspec": {
   "display_name": "Python 3",
   "language": "python",
   "name": "python3"
  },
  "language_info": {
   "codemirror_mode": {
    "name": "ipython",
    "version": 3
   },
   "file_extension": ".py",
   "mimetype": "text/x-python",
   "name": "python",
   "nbconvert_exporter": "python",
   "pygments_lexer": "ipython3",
   "version": "3.6.3"
  }
 },
 "nbformat": 4,
 "nbformat_minor": 2
}
